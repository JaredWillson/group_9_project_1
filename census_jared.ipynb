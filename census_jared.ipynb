{
 "cells": [
  {
   "cell_type": "markdown",
   "id": "2688d5b8-935e-4b4a-a243-ffbe7768b120",
   "metadata": {},
   "source": [
    "# US Census Data API/Data Collection\n",
    "## ACS Survey 5\n",
    "\n",
    "The ACS Survey 5 contains data from 2019 to 2022 and includes social, economic, demographic, and housing data all the way down to the zip code level. We have decided to use zip code level data for our analysis. We can then split zip codes into urban/suburban/rural and into various household income buckets. We can also summarize across the state."
   ]
  },
  {
   "cell_type": "code",
   "execution_count": 1,
   "id": "bdc30d64-a01e-45e8-80ac-388ebdf32446",
   "metadata": {},
   "outputs": [],
   "source": [
    "# Dependencies\n",
    "import requests\n",
    "import numpy as np\n",
    "import pandas as pd\n",
    "from census import Census\n",
    "from us import states\n",
    "from config import census_api_key"
   ]
  },
  {
   "cell_type": "markdown",
   "id": "8958284e-72ea-4242-9825-f1f63b82526a",
   "metadata": {},
   "source": [
    "## Data Requirements\n",
    "\n",
    "So, what data will we need to collect? \n",
    "\n",
    "For all zip codes in california: \n",
    "For the five years we are interested in:\n",
    "-        What is the population by zip code?\n",
    "-        What is the geographic area by zip code\n",
    "-        What is the household income by zip code\n",
    "\n",
    "Those are the basics. It may be worth exploring to see if there are other data that would be helpful for answering some intriguing questions, but this should be enough to cover the questions already identified in our project. We can marry these data with the information on car registration by fuel from the california government website as well as California energy department info on energy production.\n",
    "\n",
    "At present, I don't have geographic area by zip code. Census does not publish this. They do publish population density, but not by zip code. May need to do it by city.\n",
    "\n"
   ]
  },
  {
   "cell_type": "code",
   "execution_count": 2,
   "id": "0c9f9a6a-ae9d-46a0-9be4-08bbf597fb83",
   "metadata": {},
   "outputs": [],
   "source": [
    "# Create an instance of the Census library\n",
    "# Run Census Search to retrieve data on all zip codes (2018 to 2022 ACS5 Census--latest five years)\n",
    "# We'll need a for loop to go through the years from 2018 to 2022\n",
    "# For loops stop just before the last member of the range since it is a zero index system\n",
    "\n",
    "multi_census_pd = pd.DataFrame()\n",
    "\n",
    "for year in range(2018, 2023):\n",
    "    c = Census(\n",
    "        census_api_key,\n",
    "        year = year\n",
    "    )\n",
    "    census_data = c.acs5.get(\n",
    "        (\n",
    "            \"NAME\",\n",
    "            \"B19013_001E\",\n",
    "            \"B01003_001E\",\n",
    "        ),\n",
    "        {'for': 'zip code tabulation area:*'}\n",
    "    )\n",
    "\n",
    "    # Convert to DataFrame\n",
    "    census_pd = pd.DataFrame(census_data)\n",
    "\n",
    "    # Column renaming\n",
    "    census_pd = census_pd.rename(\n",
    "        columns = {\n",
    "            \"NAME\": \"Name\",\n",
    "            \"B19013_001E\": \"Household Income\",\n",
    "            \"B01003_001E\": \"Population\",\n",
    "            \"zip code tabulation area\": \"Zipcode\"\n",
    "        }\n",
    "    )\n",
    "\n",
    "    # Configure the final DataFrame (basically, just drop the \"Name\" column)\n",
    "    census_pd = census_pd[\n",
    "        [\n",
    "            \"Zipcode\",\n",
    "            \"Population\",\n",
    "            \"Household Income\",\n",
    "        ]\n",
    "    ]\n",
    "    census_pd['Year'] = year\n",
    "\n",
    "    multi_census_pd = pd.concat([census_pd, multi_census_pd], axis=0)"
   ]
  },
  {
   "cell_type": "markdown",
   "id": "c953ffda-cf65-4402-a916-175ebcfe3748",
   "metadata": {},
   "source": [
    "# Filters/Slices\n",
    "\n",
    "I will need to filter this dataset down to just show California zip codes and add in their city, longitude, latitude in case\n",
    "we want to plot something on a map, or in case we want to group by city or something like that. "
   ]
  },
  {
   "cell_type": "code",
   "execution_count": 3,
   "id": "f8b43709-08ce-424d-ac2a-f44c8f84b571",
   "metadata": {},
   "outputs": [],
   "source": [
    "# In order to filter by state, we can use a csv file that is available from US census containing all \n",
    "# states, cities, zips, and the state_fips abbreviation.\n",
    "\n",
    "zip_state_pd = pd.read_csv(\"Resources/geo-data.csv\")\n",
    "\n",
    "# Now, we just need to merge our two dataframes to get just the California values\n",
    "multi_census_pd = multi_census_pd.merge(zip_state_pd, how='inner', left_on = 'Zipcode', right_on = 'zipcode', copy='false')\n",
    "\n"
   ]
  },
  {
   "cell_type": "code",
   "execution_count": 4,
   "id": "3f2b4531-8912-4a75-ab6a-94649bda7916",
   "metadata": {},
   "outputs": [],
   "source": [
    "# OK, now let's do some cleanup and drop states we don't need...\n",
    "multi_census_pd.drop(columns='zipcode', inplace=True)\n",
    "multi_census_pd = multi_census_pd[multi_census_pd['state_abbr'] == 'CA']"
   ]
  },
  {
   "cell_type": "markdown",
   "id": "0346f4ad-0186-4de1-abc2-d39626ed1219",
   "metadata": {},
   "source": [
    "# Data Cleansing and Output\n",
    "\n",
    "I will need to cleanse the data a bit so that I get rid of NaN's (yes, they exist) and negative values, and maybe some other things.\n"
   ]
  },
  {
   "cell_type": "code",
   "execution_count": 5,
   "id": "aa86181b-255f-43d3-8c88-0b015a8d85d1",
   "metadata": {},
   "outputs": [],
   "source": [
    "# We need to drop the following rows:\n",
    "#     1) Any rows where the population is zero (to reduce risk of dividing by zero)\n",
    "#     2) Any rows where Household Income is negative\n",
    "#     3) Any rows missing cities (in case we end up agregating by city)\n",
    "#     4) Any rows missing counties (in case we end up agregating by county)\n",
    "#     5) Any rows where teh city is just a ZCTA (zip code)\n",
    "#     6) Any rows where the count by zip code is less than 5, so we don't have mismatched data by year\n",
    "\n",
    "multi_census_pd = multi_census_pd[multi_census_pd['Population']!= 0]\n",
    "multi_census_pd = multi_census_pd[multi_census_pd['Household Income']> 0]\n",
    "multi_census_pd = multi_census_pd[multi_census_pd['city'].notna()]\n",
    "multi_census_pd = multi_census_pd[multi_census_pd['county'].notna()]\n",
    "multi_census_pd = multi_census_pd[multi_census_pd['city'].str.startswith('Zcta') == False]\n",
    "# To do number 6 above, we need to first make a list of zip codes\n",
    "# Where the row count is less than five (since we ran this for five years)\n",
    "keepzip = multi_census_pd.groupby('Zipcode').count()\n",
    "keepzip = keepzip.loc[keepzip['city'] == 5]\n",
    "# Now we can delete any rows from multi_census_pd\n",
    "# Where the Zipcode is not in the 'keepzip' file\n",
    "multi_census_pd = multi_census_pd[multi_census_pd['Zipcode'].isin(keepzip.index)]\n",
    "\n",
    "# df.groupby('key1')['key2'].apply(lambda x: (x=='one').sum()).reset_index(name='count')\n",
    "# multi_census_pd = multi_census_pd[multi_census_pd['Zipcode'].isin()\n"
   ]
  },
  {
   "cell_type": "code",
   "execution_count": 13,
   "id": "064eb454-e319-4358-8597-cd43cf1420b2",
   "metadata": {},
   "outputs": [],
   "source": [
    "# Now we can write out our data file for incorporation into the master Pandas notebook\n",
    "multi_census_pd.to_csv(\"Resources/census_data.csv\", header=True, index=False)"
   ]
  },
  {
   "cell_type": "markdown",
   "id": "4f1172d1-6ca6-4522-99dd-7ac3cfb1ff89",
   "metadata": {},
   "source": [
    "# Alternate Data Sets\n",
    "Not all of the diferent datasets are available by zip code, so I need to prepare a couple different files:\n",
    "- Census data by county\n",
    "- A cross reference from zip code to county"
   ]
  },
  {
   "cell_type": "code",
   "execution_count": 7,
   "id": "8f89c43e-5915-47aa-92d2-e5724ff207c9",
   "metadata": {},
   "outputs": [],
   "source": [
    "# Create an instance of the Census library\n",
    "# Run Census Search to retrieve data on all zip codes (2018 to 2022 ACS5 Census--latest five years)\n",
    "# We'll need a for loop to go through the years from 2018 to 2022\n",
    "# For: loops stop just before the last member of the range since it is a zero index system\n",
    "# We'll start by creating an empty dataframe that we will hold all of our data for each year...\n",
    "\n",
    "multi_census_county = pd.DataFrame()\n",
    "\n",
    "for year in range(2018, 2023):\n",
    "    c = Census(\n",
    "        census_api_key,\n",
    "        year = year\n",
    "    )\n",
    "    census_data = c.acs5.get(\n",
    "        (\n",
    "            \"NAME\",\n",
    "            \"B19013_001E\",\n",
    "            \"B01003_001E\"\n",
    "        ),\n",
    "        {'for': 'county:*', 'in': 'state:06'}\n",
    "    )\n",
    "\n",
    "\n",
    "    # Convert to DataFrame\n",
    "    census_pd = pd.DataFrame(census_data)\n",
    "\n",
    "    # Column renaming\n",
    "    census_pd = census_pd.rename(\n",
    "        columns = {\n",
    "            \"NAME\": \"Name\",\n",
    "            \"B19013_001E\": \"Household Income\",\n",
    "            \"B01003_001E\": \"Population\",\n",
    "            \"county\": \"County FIPS\"\n",
    "        }\n",
    "    )\n",
    "\n",
    "\n",
    "    \n",
    "    # Configure the final DataFrame (basically, just drop the \"Name\" column)\n",
    "    census_pd = census_pd[\n",
    "        [\n",
    "            \"County FIPS\",\n",
    "            \"Population\",\n",
    "            \"Household Income\",\n",
    "        ]\n",
    "    ]\n",
    "    census_pd['Year'] = year\n",
    "\n",
    "    multi_census_county = pd.concat([census_pd, multi_census_county], axis=0)\n"
   ]
  },
  {
   "cell_type": "code",
   "execution_count": 8,
   "id": "c9bd6a29-86b9-47ba-9d9d-58b40c195219",
   "metadata": {},
   "outputs": [],
   "source": [
    "# But our county FIPS does not tell us the name of the county.\n",
    "# We can pull in a CSV with a FIPS lookup value for California taken from US Census SF1\n",
    "\n",
    "# We need to make sure the FIPS column isn't interpreted as a number, so we specify the dtype\n",
    "county_name_pd = pd.read_csv('Resources/census_county_name_fips.csv', dtype={\n",
    "    'Name': 'string',\n",
    "    'FIPS': 'string'\n",
    "})"
   ]
  },
  {
   "cell_type": "code",
   "execution_count": 9,
   "id": "a9170773-ab04-4af8-890f-fc1a4bd5ee1f",
   "metadata": {},
   "outputs": [],
   "source": [
    "# So, now we will join our county name cross reference to our dataset...\n",
    "multi_census_county = multi_census_county.merge(county_name_pd,\n",
    "                                                how='inner',\n",
    "                                                left_on = 'County FIPS',\n",
    "                                                right_on = 'FIPS',\n",
    "                                                copy = 'false'\n",
    "                                               )\n",
    "# Then, we will do a little cleanup--renaming columns, dropping the FIPS columns, and reordering...\n",
    "multi_census_county = multi_census_county.rename(columns={\"Name\": \"County\"})\n",
    "multi_census_county.drop('County FIPS', axis=1, inplace=True)\n",
    "multi_census_county.drop('FIPS', axis=1, inplace=True)\n",
    "multi_census_county = multi_census_county[['County', 'Year', 'Population', 'Household Income']]"
   ]
  },
  {
   "cell_type": "code",
   "execution_count": 16,
   "id": "b29650c3-7e4c-4903-a609-80293837a90a",
   "metadata": {},
   "outputs": [],
   "source": [
    "# Now we can write our data set to a CSV file for any of the collaborators to use...\n",
    "multi_census_county.to_csv(\"Resources/census_data_by_county.csv\", header=True, index=False)"
   ]
  },
  {
   "cell_type": "code",
   "execution_count": 11,
   "id": "e803fe30-c493-409a-8239-728ec98fe3ee",
   "metadata": {},
   "outputs": [],
   "source": [
    "# We still need to make a file containing the zip codes and the counties\n",
    "# so that we can summarize by county in situations where there is no zipcode level information\n",
    "\n",
    "zipcode_county_pd = multi_census_pd.loc[multi_census_pd['Year'] == 2022]\n",
    "zipcode_county_pd = zipcode_county_pd[\n",
    "        [\n",
    "            \"Zipcode\",\n",
    "            \"county\"\n",
    "        ]\n",
    "    ]"
   ]
  },
  {
   "cell_type": "code",
   "execution_count": 12,
   "id": "5da2dd2f-9cde-4a01-bf2b-ec5f6af48ace",
   "metadata": {},
   "outputs": [],
   "source": [
    "# And now we will write out our zip/county cross reference file for anyone who needs it...\n",
    "zipcode_county_pd.to_csv(\"Resources/zip_to_county.csv\", header=True, index=False)"
   ]
  },
  {
   "cell_type": "code",
   "execution_count": null,
   "id": "0b03ba6a-46d2-4155-984b-4c74cf4ea262",
   "metadata": {},
   "outputs": [],
   "source": []
  }
 ],
 "metadata": {
  "kernelspec": {
   "display_name": "Python 3 (ipykernel)",
   "language": "python",
   "name": "python3"
  },
  "language_info": {
   "codemirror_mode": {
    "name": "ipython",
    "version": 3
   },
   "file_extension": ".py",
   "mimetype": "text/x-python",
   "name": "python",
   "nbconvert_exporter": "python",
   "pygments_lexer": "ipython3",
   "version": "3.10.13"
  }
 },
 "nbformat": 4,
 "nbformat_minor": 5
}
