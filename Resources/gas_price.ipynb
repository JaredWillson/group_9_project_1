{
 "cells": [
  {
   "cell_type": "code",
   "execution_count": 1,
   "id": "824b9824-846b-4394-9855-e45beffbc972",
   "metadata": {
    "tags": []
   },
   "outputs": [],
   "source": [
    "import requests\n",
    "import json\n"
   ]
  },
  {
   "cell_type": "code",
   "execution_count": 2,
   "id": "fa56119e-2679-4e66-8bb7-79e3c251a0ce",
   "metadata": {
    "tags": []
   },
   "outputs": [],
   "source": [
    "api_key = '4k9wboAV8W8ZdRVGqA9uIR:4LYhjC1Sx8VVuzdgg7P2uu'"
   ]
  },
  {
   "cell_type": "code",
   "execution_count": 3,
   "id": "da42f5ba-2d08-4857-be4d-777dc421e6ad",
   "metadata": {
    "tags": []
   },
   "outputs": [],
   "source": [
    "from pprint import pprint"
   ]
  },
  {
   "cell_type": "code",
   "execution_count": 4,
   "id": "74b6802e-7b27-40a6-9d1b-392fb0e75c50",
   "metadata": {
    "tags": []
   },
   "outputs": [],
   "source": [
    "# url = \"https://collectapi.com/api/gasPrice/gas-prices-api?tab=pricing\"\n",
    "url = \"https://api.collectapi.com/gasPrice/stateUsaPrice?state=\""
   ]
  },
  {
   "cell_type": "code",
   "execution_count": 5,
   "id": "2214c457-35cf-4618-8818-fd008260f448",
   "metadata": {
    "tags": []
   },
   "outputs": [],
   "source": [
    "headers = {\n",
    "    'content-type': \"application/json\",\n",
    "    'authorization': \"apikey 3NHVADT5KuNLk3ZMn0THtC:2pmqCh12nXGVUWBbdn6wFy\"\n",
    "}"
   ]
  },
  {
   "cell_type": "code",
   "execution_count": 6,
   "id": "8e0f3385-5e3d-4ff5-8f62-cf641c9db64e",
   "metadata": {
    "tags": []
   },
   "outputs": [
    {
     "data": {
      "text/plain": [
       "{'content-type': 'application/json',\n",
       " 'authorization': 'apikey 3NHVADT5KuNLk3ZMn0THtC:2pmqCh12nXGVUWBbdn6wFy'}"
      ]
     },
     "execution_count": 6,
     "metadata": {},
     "output_type": "execute_result"
    }
   ],
   "source": [
    "headers"
   ]
  },
  {
   "cell_type": "code",
   "execution_count": 7,
   "id": "6ef0059a-7954-4ea4-b7ab-9f36ebbfcf88",
   "metadata": {
    "tags": []
   },
   "outputs": [],
   "source": [
    "response = requests.get(url + \"CA\", headers=headers)"
   ]
  },
  {
   "cell_type": "code",
   "execution_count": 8,
   "id": "91cff443-242c-4861-8750-55c4e6e5ea57",
   "metadata": {
    "tags": []
   },
   "outputs": [
    {
     "data": {
      "text/plain": [
       "500"
      ]
     },
     "execution_count": 8,
     "metadata": {},
     "output_type": "execute_result"
    }
   ],
   "source": [
    "response.status_code"
   ]
  },
  {
   "cell_type": "code",
   "execution_count": 9,
   "id": "14cbeca8-6481-49a2-9d93-991782d17c01",
   "metadata": {
    "tags": []
   },
   "outputs": [
    {
     "name": "stdout",
     "output_type": "stream",
     "text": [
      "{\"success\":false,\"code\":500,\"message\":\"You do not have any subscription to this api.\"}\n"
     ]
    }
   ],
   "source": [
    "import http.client\n",
    "\n",
    "conn = http.client.HTTPSConnection(\"api.collectapi.com\")\n",
    "\n",
    "headers = {\n",
    "    'content-type': \"application/json\",\n",
    "    'authorization': \"apikey 3NHVADT5KuNLk3ZMn0THtC:2pmqCh12nXGVUWBbdn6wFy\"\n",
    "    }\n",
    "\n",
    "conn.request(\"GET\", \"/gasPrice/stateUsaPrice?state=WA\", headers=headers)\n",
    "\n",
    "res = conn.getresponse()\n",
    "data = res.read()\n",
    "\n",
    "print(data.decode(\"utf-8\"))"
   ]
  },
  {
   "cell_type": "code",
   "execution_count": 10,
   "id": "cf9a306d-ad1a-4869-9bea-3734a1a161d0",
   "metadata": {
    "tags": []
   },
   "outputs": [
    {
     "name": "stdout",
     "output_type": "stream",
     "text": [
      "{'code': 500,\n",
      " 'message': 'You do not have any subscription to this api.',\n",
      " 'success': False}\n"
     ]
    }
   ],
   "source": [
    "pprint(response.json())"
   ]
  },
  {
   "cell_type": "code",
   "execution_count": 11,
   "id": "e73e63a9-4c1f-433b-b91b-b6e057ef4abb",
   "metadata": {
    "tags": []
   },
   "outputs": [],
   "source": [
    "# api_key = \"&apikey=\" + api_key"
   ]
  },
  {
   "cell_type": "code",
   "execution_count": 12,
   "id": "e0044533-225c-4990-aac2-f608daf4a39f",
   "metadata": {
    "tags": []
   },
   "outputs": [],
   "source": [
    "import pandas as pd"
   ]
  },
  {
   "cell_type": "code",
   "execution_count": 13,
   "id": "e209c024-4509-4db9-aa06-ff8c08c90e96",
   "metadata": {
    "tags": []
   },
   "outputs": [],
   "source": [
    "data = response.json()"
   ]
  },
  {
   "cell_type": "code",
   "execution_count": 14,
   "id": "d1297239-b480-4552-9acb-a71114eb1706",
   "metadata": {
    "tags": []
   },
   "outputs": [],
   "source": [
    "data = [{'currency': 'usd', 'gasoline': '4.834', 'midGrade': '5.059', 'premium': '5.246', 'diesel': '5.620', 'name': 'Bakersfield', 'lowerName': 'bakersfield'}, {'currency': 'usd', 'gasoline': '4.817', 'midGrade': '5.035', 'premium': '5.156', 'diesel': '5.130', 'name': 'Chico-Paradise', 'lowerName': 'chico-paradise'}, {'currency': 'usd', 'gasoline': '4.838', 'midGrade': '5.040', 'premium': '5.216', 'diesel': '5.393', 'name': 'Fresno', 'lowerName': 'fresno'}, {'currency': 'usd', 'gasoline': '4.975', 'midGrade': '5.187', 'premium': '5.330', 'diesel': '5.481', 'name': 'Los Angeles-Long Beach', 'lowerName': 'los angeles-long beach'}, {'currency': 'usd', 'gasoline': '4.894', 'midGrade': '5.099', 'premium': '5.279', 'diesel': '5.311', 'name': 'Merced', 'lowerName': 'merced'}, {'currency': 'usd', 'gasoline': '4.771', 'midGrade': '5.011', 'premium': '5.180', 'diesel': '5.300', 'name': 'Modesto', 'lowerName': 'modesto'}, {'currency': 'usd', 'gasoline': '4.993', 'midGrade': '5.206', 'premium': '5.387', 'diesel': '5.429', 'name': 'Oakland', 'lowerName': 'oakland'}, {'currency': 'usd', 'gasoline': '4.933', 'midGrade': '5.135', 'premium': '5.267', 'diesel': '5.278', 'name': 'Orange County', 'lowerName': 'orange county'}, {'currency': 'usd', 'gasoline': '4.765', 'midGrade': '4.918', 'premium': '5.064', 'diesel': '5.094', 'name': 'Redding', 'lowerName': 'redding'}, {'currency': 'usd', 'gasoline': '4.853', 'midGrade': '5.070', 'premium': '5.220', 'diesel': '5.282', 'name': 'Riverside', 'lowerName': 'riverside'}, {'currency': 'usd', 'gasoline': '4.940', 'midGrade': '5.141', 'premium': '5.324', 'diesel': '5.258', 'name': 'Sacramento', 'lowerName': 'sacramento'}, {'currency': 'usd', 'gasoline': '5.061', 'midGrade': '5.261', 'premium': '5.450', 'diesel': '5.621', 'name': 'Salinas', 'lowerName': 'salinas'}, {'currency': 'usd', 'gasoline': '4.972', 'midGrade': '5.180', 'premium': '5.335', 'diesel': '5.328', 'name': 'San Diego', 'lowerName': 'san diego'}, {'currency': 'usd', 'gasoline': '5.111', 'midGrade': '5.307', 'premium': '5.500', 'diesel': '5.529', 'name': 'San Francisco', 'lowerName': 'san francisco'}, {'currency': 'usd', 'gasoline': '4.952', 'midGrade': '5.154', 'premium': '5.327', 'diesel': '5.383', 'name': 'San Jose', 'lowerName': 'san jose'}, {'currency': 'usd', 'gasoline': '5.080', 'midGrade': '5.284', 'premium': '5.449', 'diesel': '5.808', 'name': 'San Luis Obispo-Atascadero-Paso Robles', 'lowerName': 'san luis obispo-atascadero-paso robles'}, {'currency': 'usd', 'gasoline': '4.971', 'midGrade': '5.162', 'premium': '5.304', 'diesel': '5.517', 'name': 'Santa Barbara-Santa Maria-Lompoc', 'lowerName': 'santa barbara-santa maria-lompoc'}, {'currency': 'usd', 'gasoline': '4.969', 'midGrade': '5.187', 'premium': '5.345', 'diesel': '5.556', 'name': 'Santa Cruz-Watsonville', 'lowerName': 'santa cruz-watsonville'}, {'currency': 'usd', 'gasoline': '5.098', 'midGrade': '5.301', 'premium': '5.472', 'diesel': '5.458', 'name': 'Santa Rosa', 'lowerName': 'santa rosa'}, {'currency': 'usd', 'gasoline': '4.828', 'midGrade': '5.046', 'premium': '5.226', 'diesel': '5.344', 'name': 'Stockton-Lodi', 'lowerName': 'stockton-lodi'}, {'currency': 'usd', 'gasoline': '4.907', 'midGrade': '5.112', 'premium': '5.280', 'diesel': '5.298', 'name': 'Vallejo-Fairfield', 'lowerName': 'vallejo-fairfield'}, {'currency': 'usd', 'gasoline': '5.015', 'midGrade': '5.218', 'premium': '5.362', 'diesel': '5.557', 'name': 'Ventura', 'lowerName': 'ventura'}, {'currency': 'usd', 'gasoline': '4.844', 'midGrade': '5.026', 'premium': '5.240', 'diesel': '5.458', 'name': 'Visalia-Tulare-Porterville', 'lowerName': 'visalia-tulare-porterville'}, {'currency': 'usd', 'gasoline': '4.900', 'midGrade': '5.132', 'premium': '5.343', 'diesel': '5.154', 'name': 'Yolo', 'lowerName': 'yolo'}, {'currency': 'usd', 'gasoline': '4.744', 'midGrade': '4.936', 'premium': '5.135', 'diesel': '5.158', 'name': 'Yuba City', 'lowerName': 'yuba city'}, {'currency': 'usd', 'gasoline': '4.772', 'midGrade': '4.962', 'premium': '5.187', 'diesel': '5.526', 'name': 'El Centro', 'lowerName': 'el centro'}, {'currency': 'usd', 'gasoline': '4.745', 'midGrade': '4.931', 'premium': '5.123', 'diesel': '5.316', 'name': 'Hanford-Corcoran', 'lowerName': 'hanford-corcoran'}, {'currency': 'usd', 'gasoline': '4.811', 'midGrade': '4.986', 'premium': '5.268', 'diesel': '5.532', 'name': 'Madera-Chowchilla', 'lowerName': 'madera-chowchilla'}, {'currency': 'usd', 'gasoline': '5.081', 'midGrade': '5.273', 'premium': '5.453', 'diesel': '5.391', 'name': 'Napa', 'lowerName': 'napa'}, {'currency': 'usd', 'gasoline': '4.891', 'midGrade': '5.078', 'premium': '5.243', 'diesel': '5.320', 'name': 'San Bernardino', 'lowerName': 'san bernardino'}, {'currency': 'usd', 'gasoline': '5.077', 'midGrade': '5.249', 'premium': '5.464', 'diesel': '5.460', 'name': 'San Rafael', 'lowerName': 'san rafael'}]\n"
   ]
  },
  {
   "cell_type": "code",
   "execution_count": 15,
   "id": "a301964f-7722-412a-aaae-1944ce521955",
   "metadata": {
    "tags": []
   },
   "outputs": [],
   "source": [
    "df = pd.DataFrame(data)"
   ]
  },
  {
   "cell_type": "code",
   "execution_count": 17,
   "id": "2e422543-c933-489a-83b1-2ab66e8d0387",
   "metadata": {
    "tags": []
   },
   "outputs": [],
   "source": [
    "df.columns = [\"currency\", \"gasoline\", \"midGrade\", \"premium\", \"diesel\", \"name\", \"lowerName\"]"
   ]
  },
  {
   "cell_type": "code",
   "execution_count": 18,
   "id": "8c027f20-1442-4ce6-842e-4167145f6597",
   "metadata": {
    "tags": []
   },
   "outputs": [],
   "source": [
    "df.to_excel('gas_price_3.xlsx',index=False)"
   ]
  },
  {
   "cell_type": "code",
   "execution_count": null,
   "id": "4ed94cc4-1294-4a4f-b7ef-dcfea6fa4e21",
   "metadata": {},
   "outputs": [],
   "source": []
  }
 ],
 "metadata": {
  "kernelspec": {
   "display_name": "Python 3 (ipykernel)",
   "language": "python",
   "name": "python3"
  },
  "language_info": {
   "codemirror_mode": {
    "name": "ipython",
    "version": 3
   },
   "file_extension": ".py",
   "mimetype": "text/x-python",
   "name": "python",
   "nbconvert_exporter": "python",
   "pygments_lexer": "ipython3",
   "version": "3.10.13"
  }
 },
 "nbformat": 4,
 "nbformat_minor": 5
}
