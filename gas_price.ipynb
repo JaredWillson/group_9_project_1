{
 "cells": [
  {
   "cell_type": "code",
   "execution_count": 27,
   "id": "824b9824-846b-4394-9855-e45beffbc972",
   "metadata": {
    "tags": []
   },
   "outputs": [],
   "source": [
    "import requests\n",
    "import json\n"
   ]
  },
  {
   "cell_type": "code",
   "execution_count": 20,
   "id": "fa56119e-2679-4e66-8bb7-79e3c251a0ce",
   "metadata": {
    "tags": []
   },
   "outputs": [],
   "source": [
    "api_key = '4k9wboAV8W8ZdRVGqA9uIR:4LYhjC1Sx8VVuzdgg7P2uu'"
   ]
  },
  {
   "cell_type": "code",
   "execution_count": 17,
   "id": "da42f5ba-2d08-4857-be4d-777dc421e6ad",
   "metadata": {
    "tags": []
   },
   "outputs": [],
   "source": [
    "from pprint import pprint"
   ]
  },
  {
   "cell_type": "code",
   "execution_count": 34,
   "id": "74b6802e-7b27-40a6-9d1b-392fb0e75c50",
   "metadata": {
    "tags": []
   },
   "outputs": [],
   "source": [
    "# url = \"https://collectapi.com/api/gasPrice/gas-prices-api?tab=pricing\"\n",
    "url = \"https://api.collectapi.com/gasPrice/stateUsaPrice?state=\""
   ]
  },
  {
   "cell_type": "code",
   "execution_count": 46,
   "id": "2214c457-35cf-4618-8818-fd008260f448",
   "metadata": {
    "tags": []
   },
   "outputs": [],
   "source": [
    "headers = {\n",
    "    'content-type': \"application/json\",\n",
    "    'authorization': \"apikey 3NHVADT5KuNLk3ZMn0THtC:2pmqCh12nXGVUWBbdn6wFy\"\n",
    "}"
   ]
  },
  {
   "cell_type": "code",
   "execution_count": 47,
   "id": "8e0f3385-5e3d-4ff5-8f62-cf641c9db64e",
   "metadata": {
    "tags": []
   },
   "outputs": [
    {
     "data": {
      "text/plain": [
       "{'content-type': 'application/json',\n",
       " 'authorization': 'apikey 3NHVADT5KuNLk3ZMn0THtC:2pmqCh12nXGVUWBbdn6wFy'}"
      ]
     },
     "execution_count": 47,
     "metadata": {},
     "output_type": "execute_result"
    }
   ],
   "source": [
    "headers"
   ]
  },
  {
   "cell_type": "code",
   "execution_count": 48,
   "id": "6ef0059a-7954-4ea4-b7ab-9f36ebbfcf88",
   "metadata": {
    "tags": []
   },
   "outputs": [],
   "source": [
    "response = requests.get(url + \"CA\", headers=headers)"
   ]
  },
  {
   "cell_type": "code",
   "execution_count": 49,
   "id": "91cff443-242c-4861-8750-55c4e6e5ea57",
   "metadata": {
    "tags": []
   },
   "outputs": [
    {
     "data": {
      "text/plain": [
       "200"
      ]
     },
     "execution_count": 49,
     "metadata": {},
     "output_type": "execute_result"
    }
   ],
   "source": [
    "response.status_code"
   ]
  },
  {
   "cell_type": "code",
   "execution_count": 61,
   "id": "14cbeca8-6481-49a2-9d93-991782d17c01",
   "metadata": {
    "tags": []
   },
   "outputs": [
    {
     "name": "stdout",
     "output_type": "stream",
     "text": [
      "{\"success\":true,\"result\":{\"state\":{\"currency\":\"usd\",\"name\":\"Washington\",\"lowerName\":\"washington\",\"gasoline\":\"4.352\",\"midGrade\":\"4.581\",\"premium\":\"4.802\",\"diesel\":\"4.660\"},\"cities\":[{\"currency\":\"usd\",\"gasoline\":\"4.329\",\"midGrade\":\"4.535\",\"premium\":\"4.783\",\"diesel\":\"4.366\",\"name\":\"Bellingham\",\"lowerName\":\"bellingham\"},{\"currency\":\"usd\",\"gasoline\":\"4.398\",\"midGrade\":\"4.596\",\"premium\":\"4.809\",\"diesel\":\"4.678\",\"name\":\"Bremerton\",\"lowerName\":\"bremerton\"},{\"currency\":\"usd\",\"gasoline\":\"4.398\",\"midGrade\":\"4.565\",\"premium\":\"4.789\",\"diesel\":\"4.819\",\"name\":\"Olympia\",\"lowerName\":\"olympia\"},{\"currency\":\"usd\",\"gasoline\":\"4.127\",\"midGrade\":\"4.312\",\"premium\":\"4.572\",\"diesel\":\"4.563\",\"name\":\"Richland-Kennewick-Pasco\",\"lowerName\":\"richland-kennewick-pasco\"},{\"currency\":\"usd\",\"gasoline\":\"4.520\",\"midGrade\":\"4.730\",\"premium\":\"4.950\",\"diesel\":\"4.911\",\"name\":\"Seattle-Bellevue-Everett\",\"lowerName\":\"seattle-bellevue-everett\"},{\"currency\":\"usd\",\"gasoline\":\"4.001\",\"midGrade\":\"4.224\",\"premium\":\"4.444\",\"diesel\":\"4.265\",\"name\":\"Spokane\",\"lowerName\":\"spokane\"},{\"currency\":\"usd\",\"gasoline\":\"4.412\",\"midGrade\":\"4.616\",\"premium\":\"4.843\",\"diesel\":\"4.763\",\"name\":\"Tacoma\",\"lowerName\":\"tacoma\"},{\"currency\":\"usd\",\"gasoline\":\"4.145\",\"midGrade\":\"4.410\",\"premium\":\"4.602\",\"diesel\":\"4.413\",\"name\":\"Yakima\",\"lowerName\":\"yakima\"},{\"currency\":\"usd\",\"gasoline\":\"4.406\",\"midGrade\":\"4.636\",\"premium\":\"4.840\",\"diesel\":\"4.438\",\"name\":\"Vancouver\",\"lowerName\":\"vancouver\"},{\"currency\":\"usd\",\"gasoline\":\"3.926\",\"midGrade\":\"4.149\",\"premium\":\"4.192\",\"diesel\":\"3.759\",\"name\":\"Clarkson\",\"lowerName\":\"clarkson\"},{\"currency\":\"usd\",\"gasoline\":\"4.379\",\"midGrade\":\"4.594\",\"premium\":\"4.772\",\"diesel\":\"4.565\",\"name\":\"Longview\",\"lowerName\":\"longview\"},{\"currency\":\"usd\",\"gasoline\":\"4.261\",\"midGrade\":\"4.500\",\"premium\":\"4.710\",\"diesel\":\"4.329\",\"name\":\"Mount Vernon-Anacortes\",\"lowerName\":\"mount vernon-anacortes\"},{\"currency\":\"usd\",\"gasoline\":\"4.319\",\"midGrade\":\"4.456\",\"premium\":\"4.683\",\"diesel\":\"4.718\",\"name\":\"Walla Walla\",\"lowerName\":\"walla walla\"},{\"currency\":\"usd\",\"gasoline\":\"4.253\",\"midGrade\":\"4.427\",\"premium\":\"4.662\",\"diesel\":\"4.315\",\"name\":\"Wenatchee\",\"lowerName\":\"wenatchee\"}]}}\n"
     ]
    }
   ],
   "source": [
    "import http.client\n",
    "\n",
    "conn = http.client.HTTPSConnection(\"api.collectapi.com\")\n",
    "\n",
    "headers = {\n",
    "    'content-type': \"application/json\",\n",
    "    'authorization': \"apikey 3NHVADT5KuNLk3ZMn0THtC:2pmqCh12nXGVUWBbdn6wFy\"\n",
    "    }\n",
    "\n",
    "conn.request(\"GET\", \"/gasPrice/stateUsaPrice?state=WA\", headers=headers)\n",
    "\n",
    "res = conn.getresponse()\n",
    "data = res.read()\n",
    "\n",
    "print(data.decode(\"utf-8\"))"
   ]
  },
  {
   "cell_type": "code",
   "execution_count": 62,
   "id": "cf9a306d-ad1a-4869-9bea-3734a1a161d0",
   "metadata": {
    "tags": []
   },
   "outputs": [
    {
     "name": "stdout",
     "output_type": "stream",
     "text": [
      "{'result': {'cities': [{'currency': 'usd',\n",
      "                        'diesel': '5.620',\n",
      "                        'gasoline': '4.834',\n",
      "                        'lowerName': 'bakersfield',\n",
      "                        'midGrade': '5.059',\n",
      "                        'name': 'Bakersfield',\n",
      "                        'premium': '5.246'},\n",
      "                       {'currency': 'usd',\n",
      "                        'diesel': '5.130',\n",
      "                        'gasoline': '4.817',\n",
      "                        'lowerName': 'chico-paradise',\n",
      "                        'midGrade': '5.035',\n",
      "                        'name': 'Chico-Paradise',\n",
      "                        'premium': '5.156'},\n",
      "                       {'currency': 'usd',\n",
      "                        'diesel': '5.393',\n",
      "                        'gasoline': '4.838',\n",
      "                        'lowerName': 'fresno',\n",
      "                        'midGrade': '5.040',\n",
      "                        'name': 'Fresno',\n",
      "                        'premium': '5.216'},\n",
      "                       {'currency': 'usd',\n",
      "                        'diesel': '5.481',\n",
      "                        'gasoline': '4.975',\n",
      "                        'lowerName': 'los angeles-long beach',\n",
      "                        'midGrade': '5.187',\n",
      "                        'name': 'Los Angeles-Long Beach',\n",
      "                        'premium': '5.330'},\n",
      "                       {'currency': 'usd',\n",
      "                        'diesel': '5.311',\n",
      "                        'gasoline': '4.894',\n",
      "                        'lowerName': 'merced',\n",
      "                        'midGrade': '5.099',\n",
      "                        'name': 'Merced',\n",
      "                        'premium': '5.279'},\n",
      "                       {'currency': 'usd',\n",
      "                        'diesel': '5.300',\n",
      "                        'gasoline': '4.771',\n",
      "                        'lowerName': 'modesto',\n",
      "                        'midGrade': '5.011',\n",
      "                        'name': 'Modesto',\n",
      "                        'premium': '5.180'},\n",
      "                       {'currency': 'usd',\n",
      "                        'diesel': '5.429',\n",
      "                        'gasoline': '4.993',\n",
      "                        'lowerName': 'oakland',\n",
      "                        'midGrade': '5.206',\n",
      "                        'name': 'Oakland',\n",
      "                        'premium': '5.387'},\n",
      "                       {'currency': 'usd',\n",
      "                        'diesel': '5.278',\n",
      "                        'gasoline': '4.933',\n",
      "                        'lowerName': 'orange county',\n",
      "                        'midGrade': '5.135',\n",
      "                        'name': 'Orange County',\n",
      "                        'premium': '5.267'},\n",
      "                       {'currency': 'usd',\n",
      "                        'diesel': '5.094',\n",
      "                        'gasoline': '4.765',\n",
      "                        'lowerName': 'redding',\n",
      "                        'midGrade': '4.918',\n",
      "                        'name': 'Redding',\n",
      "                        'premium': '5.064'},\n",
      "                       {'currency': 'usd',\n",
      "                        'diesel': '5.282',\n",
      "                        'gasoline': '4.853',\n",
      "                        'lowerName': 'riverside',\n",
      "                        'midGrade': '5.070',\n",
      "                        'name': 'Riverside',\n",
      "                        'premium': '5.220'},\n",
      "                       {'currency': 'usd',\n",
      "                        'diesel': '5.258',\n",
      "                        'gasoline': '4.940',\n",
      "                        'lowerName': 'sacramento',\n",
      "                        'midGrade': '5.141',\n",
      "                        'name': 'Sacramento',\n",
      "                        'premium': '5.324'},\n",
      "                       {'currency': 'usd',\n",
      "                        'diesel': '5.621',\n",
      "                        'gasoline': '5.061',\n",
      "                        'lowerName': 'salinas',\n",
      "                        'midGrade': '5.261',\n",
      "                        'name': 'Salinas',\n",
      "                        'premium': '5.450'},\n",
      "                       {'currency': 'usd',\n",
      "                        'diesel': '5.328',\n",
      "                        'gasoline': '4.972',\n",
      "                        'lowerName': 'san diego',\n",
      "                        'midGrade': '5.180',\n",
      "                        'name': 'San Diego',\n",
      "                        'premium': '5.335'},\n",
      "                       {'currency': 'usd',\n",
      "                        'diesel': '5.529',\n",
      "                        'gasoline': '5.111',\n",
      "                        'lowerName': 'san francisco',\n",
      "                        'midGrade': '5.307',\n",
      "                        'name': 'San Francisco',\n",
      "                        'premium': '5.500'},\n",
      "                       {'currency': 'usd',\n",
      "                        'diesel': '5.383',\n",
      "                        'gasoline': '4.952',\n",
      "                        'lowerName': 'san jose',\n",
      "                        'midGrade': '5.154',\n",
      "                        'name': 'San Jose',\n",
      "                        'premium': '5.327'},\n",
      "                       {'currency': 'usd',\n",
      "                        'diesel': '5.808',\n",
      "                        'gasoline': '5.080',\n",
      "                        'lowerName': 'san luis obispo-atascadero-paso robles',\n",
      "                        'midGrade': '5.284',\n",
      "                        'name': 'San Luis Obispo-Atascadero-Paso Robles',\n",
      "                        'premium': '5.449'},\n",
      "                       {'currency': 'usd',\n",
      "                        'diesel': '5.517',\n",
      "                        'gasoline': '4.971',\n",
      "                        'lowerName': 'santa barbara-santa maria-lompoc',\n",
      "                        'midGrade': '5.162',\n",
      "                        'name': 'Santa Barbara-Santa Maria-Lompoc',\n",
      "                        'premium': '5.304'},\n",
      "                       {'currency': 'usd',\n",
      "                        'diesel': '5.556',\n",
      "                        'gasoline': '4.969',\n",
      "                        'lowerName': 'santa cruz-watsonville',\n",
      "                        'midGrade': '5.187',\n",
      "                        'name': 'Santa Cruz-Watsonville',\n",
      "                        'premium': '5.345'},\n",
      "                       {'currency': 'usd',\n",
      "                        'diesel': '5.458',\n",
      "                        'gasoline': '5.098',\n",
      "                        'lowerName': 'santa rosa',\n",
      "                        'midGrade': '5.301',\n",
      "                        'name': 'Santa Rosa',\n",
      "                        'premium': '5.472'},\n",
      "                       {'currency': 'usd',\n",
      "                        'diesel': '5.344',\n",
      "                        'gasoline': '4.828',\n",
      "                        'lowerName': 'stockton-lodi',\n",
      "                        'midGrade': '5.046',\n",
      "                        'name': 'Stockton-Lodi',\n",
      "                        'premium': '5.226'},\n",
      "                       {'currency': 'usd',\n",
      "                        'diesel': '5.298',\n",
      "                        'gasoline': '4.907',\n",
      "                        'lowerName': 'vallejo-fairfield',\n",
      "                        'midGrade': '5.112',\n",
      "                        'name': 'Vallejo-Fairfield',\n",
      "                        'premium': '5.280'},\n",
      "                       {'currency': 'usd',\n",
      "                        'diesel': '5.557',\n",
      "                        'gasoline': '5.015',\n",
      "                        'lowerName': 'ventura',\n",
      "                        'midGrade': '5.218',\n",
      "                        'name': 'Ventura',\n",
      "                        'premium': '5.362'},\n",
      "                       {'currency': 'usd',\n",
      "                        'diesel': '5.458',\n",
      "                        'gasoline': '4.844',\n",
      "                        'lowerName': 'visalia-tulare-porterville',\n",
      "                        'midGrade': '5.026',\n",
      "                        'name': 'Visalia-Tulare-Porterville',\n",
      "                        'premium': '5.240'},\n",
      "                       {'currency': 'usd',\n",
      "                        'diesel': '5.154',\n",
      "                        'gasoline': '4.900',\n",
      "                        'lowerName': 'yolo',\n",
      "                        'midGrade': '5.132',\n",
      "                        'name': 'Yolo',\n",
      "                        'premium': '5.343'},\n",
      "                       {'currency': 'usd',\n",
      "                        'diesel': '5.158',\n",
      "                        'gasoline': '4.744',\n",
      "                        'lowerName': 'yuba city',\n",
      "                        'midGrade': '4.936',\n",
      "                        'name': 'Yuba City',\n",
      "                        'premium': '5.135'},\n",
      "                       {'currency': 'usd',\n",
      "                        'diesel': '5.526',\n",
      "                        'gasoline': '4.772',\n",
      "                        'lowerName': 'el centro',\n",
      "                        'midGrade': '4.962',\n",
      "                        'name': 'El Centro',\n",
      "                        'premium': '5.187'},\n",
      "                       {'currency': 'usd',\n",
      "                        'diesel': '5.316',\n",
      "                        'gasoline': '4.745',\n",
      "                        'lowerName': 'hanford-corcoran',\n",
      "                        'midGrade': '4.931',\n",
      "                        'name': 'Hanford-Corcoran',\n",
      "                        'premium': '5.123'},\n",
      "                       {'currency': 'usd',\n",
      "                        'diesel': '5.532',\n",
      "                        'gasoline': '4.811',\n",
      "                        'lowerName': 'madera-chowchilla',\n",
      "                        'midGrade': '4.986',\n",
      "                        'name': 'Madera-Chowchilla',\n",
      "                        'premium': '5.268'},\n",
      "                       {'currency': 'usd',\n",
      "                        'diesel': '5.391',\n",
      "                        'gasoline': '5.081',\n",
      "                        'lowerName': 'napa',\n",
      "                        'midGrade': '5.273',\n",
      "                        'name': 'Napa',\n",
      "                        'premium': '5.453'},\n",
      "                       {'currency': 'usd',\n",
      "                        'diesel': '5.320',\n",
      "                        'gasoline': '4.891',\n",
      "                        'lowerName': 'san bernardino',\n",
      "                        'midGrade': '5.078',\n",
      "                        'name': 'San Bernardino',\n",
      "                        'premium': '5.243'},\n",
      "                       {'currency': 'usd',\n",
      "                        'diesel': '5.460',\n",
      "                        'gasoline': '5.077',\n",
      "                        'lowerName': 'san rafael',\n",
      "                        'midGrade': '5.249',\n",
      "                        'name': 'San Rafael',\n",
      "                        'premium': '5.464'}],\n",
      "            'state': {'currency': 'usd',\n",
      "                      'diesel': '5.393',\n",
      "                      'gasoline': '4.936',\n",
      "                      'lowerName': 'california',\n",
      "                      'midGrade': '5.144',\n",
      "                      'name': 'California',\n",
      "                      'premium': '5.306'}},\n",
      " 'success': True}\n"
     ]
    }
   ],
   "source": [
    "pprint(response.json())"
   ]
  },
  {
   "cell_type": "code",
   "execution_count": 21,
   "id": "e73e63a9-4c1f-433b-b91b-b6e057ef4abb",
   "metadata": {
    "tags": []
   },
   "outputs": [],
   "source": [
    "# api_key = \"&apikey=\" + api_key"
   ]
  },
  {
   "cell_type": "code",
   "execution_count": 57,
   "id": "e0044533-225c-4990-aac2-f608daf4a39f",
   "metadata": {
    "tags": []
   },
   "outputs": [],
   "source": [
    "import pandas as pd"
   ]
  },
  {
   "cell_type": "code",
   "execution_count": 63,
   "id": "e209c024-4509-4db9-aa06-ff8c08c90e96",
   "metadata": {
    "tags": []
   },
   "outputs": [],
   "source": [
    "data = response.json()"
   ]
  },
  {
   "cell_type": "code",
   "execution_count": 83,
   "id": "d1297239-b480-4552-9acb-a71114eb1706",
   "metadata": {
    "tags": []
   },
   "outputs": [],
   "source": [
    "data = [{'currency': 'usd', 'gasoline': '4.834', 'midGrade': '5.059', 'premium': '5.246', 'diesel': '5.620', 'name': 'Bakersfield', 'lowerName': 'bakersfield'}, {'currency': 'usd', 'gasoline': '4.817', 'midGrade': '5.035', 'premium': '5.156', 'diesel': '5.130', 'name': 'Chico-Paradise', 'lowerName': 'chico-paradise'}, {'currency': 'usd', 'gasoline': '4.838', 'midGrade': '5.040', 'premium': '5.216', 'diesel': '5.393', 'name': 'Fresno', 'lowerName': 'fresno'}, {'currency': 'usd', 'gasoline': '4.975', 'midGrade': '5.187', 'premium': '5.330', 'diesel': '5.481', 'name': 'Los Angeles-Long Beach', 'lowerName': 'los angeles-long beach'}, {'currency': 'usd', 'gasoline': '4.894', 'midGrade': '5.099', 'premium': '5.279', 'diesel': '5.311', 'name': 'Merced', 'lowerName': 'merced'}, {'currency': 'usd', 'gasoline': '4.771', 'midGrade': '5.011', 'premium': '5.180', 'diesel': '5.300', 'name': 'Modesto', 'lowerName': 'modesto'}, {'currency': 'usd', 'gasoline': '4.993', 'midGrade': '5.206', 'premium': '5.387', 'diesel': '5.429', 'name': 'Oakland', 'lowerName': 'oakland'}, {'currency': 'usd', 'gasoline': '4.933', 'midGrade': '5.135', 'premium': '5.267', 'diesel': '5.278', 'name': 'Orange County', 'lowerName': 'orange county'}, {'currency': 'usd', 'gasoline': '4.765', 'midGrade': '4.918', 'premium': '5.064', 'diesel': '5.094', 'name': 'Redding', 'lowerName': 'redding'}, {'currency': 'usd', 'gasoline': '4.853', 'midGrade': '5.070', 'premium': '5.220', 'diesel': '5.282', 'name': 'Riverside', 'lowerName': 'riverside'}, {'currency': 'usd', 'gasoline': '4.940', 'midGrade': '5.141', 'premium': '5.324', 'diesel': '5.258', 'name': 'Sacramento', 'lowerName': 'sacramento'}, {'currency': 'usd', 'gasoline': '5.061', 'midGrade': '5.261', 'premium': '5.450', 'diesel': '5.621', 'name': 'Salinas', 'lowerName': 'salinas'}, {'currency': 'usd', 'gasoline': '4.972', 'midGrade': '5.180', 'premium': '5.335', 'diesel': '5.328', 'name': 'San Diego', 'lowerName': 'san diego'}, {'currency': 'usd', 'gasoline': '5.111', 'midGrade': '5.307', 'premium': '5.500', 'diesel': '5.529', 'name': 'San Francisco', 'lowerName': 'san francisco'}, {'currency': 'usd', 'gasoline': '4.952', 'midGrade': '5.154', 'premium': '5.327', 'diesel': '5.383', 'name': 'San Jose', 'lowerName': 'san jose'}, {'currency': 'usd', 'gasoline': '5.080', 'midGrade': '5.284', 'premium': '5.449', 'diesel': '5.808', 'name': 'San Luis Obispo-Atascadero-Paso Robles', 'lowerName': 'san luis obispo-atascadero-paso robles'}, {'currency': 'usd', 'gasoline': '4.971', 'midGrade': '5.162', 'premium': '5.304', 'diesel': '5.517', 'name': 'Santa Barbara-Santa Maria-Lompoc', 'lowerName': 'santa barbara-santa maria-lompoc'}, {'currency': 'usd', 'gasoline': '4.969', 'midGrade': '5.187', 'premium': '5.345', 'diesel': '5.556', 'name': 'Santa Cruz-Watsonville', 'lowerName': 'santa cruz-watsonville'}, {'currency': 'usd', 'gasoline': '5.098', 'midGrade': '5.301', 'premium': '5.472', 'diesel': '5.458', 'name': 'Santa Rosa', 'lowerName': 'santa rosa'}, {'currency': 'usd', 'gasoline': '4.828', 'midGrade': '5.046', 'premium': '5.226', 'diesel': '5.344', 'name': 'Stockton-Lodi', 'lowerName': 'stockton-lodi'}, {'currency': 'usd', 'gasoline': '4.907', 'midGrade': '5.112', 'premium': '5.280', 'diesel': '5.298', 'name': 'Vallejo-Fairfield', 'lowerName': 'vallejo-fairfield'}, {'currency': 'usd', 'gasoline': '5.015', 'midGrade': '5.218', 'premium': '5.362', 'diesel': '5.557', 'name': 'Ventura', 'lowerName': 'ventura'}, {'currency': 'usd', 'gasoline': '4.844', 'midGrade': '5.026', 'premium': '5.240', 'diesel': '5.458', 'name': 'Visalia-Tulare-Porterville', 'lowerName': 'visalia-tulare-porterville'}, {'currency': 'usd', 'gasoline': '4.900', 'midGrade': '5.132', 'premium': '5.343', 'diesel': '5.154', 'name': 'Yolo', 'lowerName': 'yolo'}, {'currency': 'usd', 'gasoline': '4.744', 'midGrade': '4.936', 'premium': '5.135', 'diesel': '5.158', 'name': 'Yuba City', 'lowerName': 'yuba city'}, {'currency': 'usd', 'gasoline': '4.772', 'midGrade': '4.962', 'premium': '5.187', 'diesel': '5.526', 'name': 'El Centro', 'lowerName': 'el centro'}, {'currency': 'usd', 'gasoline': '4.745', 'midGrade': '4.931', 'premium': '5.123', 'diesel': '5.316', 'name': 'Hanford-Corcoran', 'lowerName': 'hanford-corcoran'}, {'currency': 'usd', 'gasoline': '4.811', 'midGrade': '4.986', 'premium': '5.268', 'diesel': '5.532', 'name': 'Madera-Chowchilla', 'lowerName': 'madera-chowchilla'}, {'currency': 'usd', 'gasoline': '5.081', 'midGrade': '5.273', 'premium': '5.453', 'diesel': '5.391', 'name': 'Napa', 'lowerName': 'napa'}, {'currency': 'usd', 'gasoline': '4.891', 'midGrade': '5.078', 'premium': '5.243', 'diesel': '5.320', 'name': 'San Bernardino', 'lowerName': 'san bernardino'}, {'currency': 'usd', 'gasoline': '5.077', 'midGrade': '5.249', 'premium': '5.464', 'diesel': '5.460', 'name': 'San Rafael', 'lowerName': 'san rafael'}]\n"
   ]
  },
  {
   "cell_type": "code",
   "execution_count": 84,
   "id": "a301964f-7722-412a-aaae-1944ce521955",
   "metadata": {
    "tags": []
   },
   "outputs": [],
   "source": [
    "df = pd.DataFrame(data)"
   ]
  },
  {
   "cell_type": "code",
   "execution_count": 88,
   "id": "2e422543-c933-489a-83b1-2ab66e8d0387",
   "metadata": {
    "tags": []
   },
   "outputs": [],
   "source": [
    "df.columns = [\"currency\", \"gasoline\", \"midGrade\", \"premium\", \"diesel\", \"name\", \"lowerName]"
   ]
  },
  {
   "cell_type": "code",
   "execution_count": 90,
   "id": "8c027f20-1442-4ce6-842e-4167145f6597",
   "metadata": {
    "tags": []
   },
   "outputs": [],
   "source": [
    "df.to_excel('gas_price_3.xlsx',index=False)"
   ]
  },
  {
   "cell_type": "code",
   "execution_count": null,
   "id": "4ed94cc4-1294-4a4f-b7ef-dcfea6fa4e21",
   "metadata": {},
   "outputs": [],
   "source": []
  }
 ],
 "metadata": {
  "kernelspec": {
   "display_name": "Python 3 (ipykernel)",
   "language": "python",
   "name": "python3"
  },
  "language_info": {
   "codemirror_mode": {
    "name": "ipython",
    "version": 3
   },
   "file_extension": ".py",
   "mimetype": "text/x-python",
   "name": "python",
   "nbconvert_exporter": "python",
   "pygments_lexer": "ipython3",
   "version": "3.11.5"
  }
 },
 "nbformat": 4,
 "nbformat_minor": 5
}
